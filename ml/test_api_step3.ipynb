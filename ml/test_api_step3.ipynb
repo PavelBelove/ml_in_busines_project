{
 "cells": [
  {
   "cell_type": "markdown",
   "metadata": {},
   "source": [
    "### Проверка того, что наше api работает\n",
    "\n",
    "Перед началом необходимо собрать docker-образ и запустить контейнер\n",
    "\n",
    "1. Следовать инструкциям https://github.com/fimochka-sudo/GB_docker_flask_example/blob/main/README.md\n",
    "2. Далее уже запускать код ниже"
   ]
  },
  {
   "cell_type": "code",
   "execution_count": 30,
   "metadata": {
    "scrolled": true
   },
   "outputs": [],
   "source": [
    "import pandas as pd\n",
    "import urllib.request\n",
    "import json \n",
    "from sklearn.metrics import roc_auc_score,roc_curve,scorer\n",
    "from urllib import request, parse\n",
    "\n",
    "def get_prediction(field_array=None, myurl=None):\n",
    "    \"\"\"\n",
    "    Input parameters:\n",
    "        field_array: python list - contains raw fields needed to make a prediction\n",
    "        myurl: REST API url\n",
    "    Returns:\n",
    "        result: float - model prediction\n",
    "    \"\"\"\n",
    "    result = 0\n",
    "    age, workclass, education, education_num, marital_status, occupation, relationship, capital_gain, capital_loss, hours_per_week = field_array\n",
    "    body = {'age':age,\n",
    "            'workclass':workclass, \n",
    "            'education':education, \n",
    "            'education_num':education_num, \n",
    "            'marital_status':marital_status, \n",
    "            'occupation':occupation, \n",
    "            'relationship':relationship,\n",
    "            'capital_gain':capital_gain, \n",
    "            'capital_loss':capital_loss, \n",
    "            'hours_per_week':hours_per_week, } \n",
    "\n",
    "    req = urllib.request.Request(myurl)\n",
    "    req.add_header('Content-Type', 'application/json; charset=utf-8')\n",
    "    jsondata = json.dumps(body)\n",
    "    jsondataasbytes = jsondata.encode('utf-8')   # needs to be bytes\n",
    "    req.add_header('Content-Length', len(jsondataasbytes))\n",
    "    response = urllib.request.urlopen(req, jsondataasbytes)\n",
    "    \n",
    "    return json.loads(response.read())['predictions']\n",
    "\n",
    "API_URL = \"http://0.0.0.0:8180/predict\"\n",
    "# API_URL = \"http://127.0.0.1:5000/predict\"\n",
    "\n",
    "\n",
    "# X_test = pd.read_csv(\"X_test.csv\")\n",
    "# y_test = pd.read_csv(\"y_test.csv\")"
   ]
  },
  {
   "cell_type": "code",
   "execution_count": 31,
   "metadata": {},
   "outputs": [],
   "source": [
    "features = ['age', 'workclass', 'fnlwgt', 'education', 'education-num', 'marital-status', 'occupation', 'relationship',\n",
    "            'race', 'sex', 'capital-gain', 'capital-loss', 'hours-per-week', 'native-country']\n",
    "target = 'income'\n",
    "\n",
    "df = pd.read_csv('data/adult.data', sep=',', index_col=False, names=features + [target])\n",
    "df_test = pd.read_csv('data/adult.test', sep=',', index_col=False, names=features + [target])\n",
    "# Одна строка в данных \"битая\", удалим.\n",
    "df_test=df_test[df_test['age']!='|1x3 Cross validator']"
   ]
  },
  {
   "cell_type": "code",
   "execution_count": 32,
   "metadata": {},
   "outputs": [],
   "source": [
    "X = df.drop(columns=['income', 'fnlwgt', 'native-country', 'race', 'sex'])\n",
    "y = df['income']\n",
    "\n",
    "X_test = df_test.drop(columns=['income', 'fnlwgt', 'native-country', 'race', 'sex'])\n",
    "y_test = df_test['income']"
   ]
  },
  {
   "cell_type": "markdown",
   "metadata": {},
   "source": [
    "Посмотрим что за данные у нас есть"
   ]
  },
  {
   "cell_type": "code",
   "execution_count": 33,
   "metadata": {},
   "outputs": [
    {
     "data": {
      "text/html": [
       "<div>\n",
       "<style scoped>\n",
       "    .dataframe tbody tr th:only-of-type {\n",
       "        vertical-align: middle;\n",
       "    }\n",
       "\n",
       "    .dataframe tbody tr th {\n",
       "        vertical-align: top;\n",
       "    }\n",
       "\n",
       "    .dataframe thead th {\n",
       "        text-align: right;\n",
       "    }\n",
       "</style>\n",
       "<table border=\"1\" class=\"dataframe\">\n",
       "  <thead>\n",
       "    <tr style=\"text-align: right;\">\n",
       "      <th></th>\n",
       "      <th>age</th>\n",
       "      <th>workclass</th>\n",
       "      <th>education</th>\n",
       "      <th>education-num</th>\n",
       "      <th>marital-status</th>\n",
       "      <th>occupation</th>\n",
       "      <th>relationship</th>\n",
       "      <th>capital-gain</th>\n",
       "      <th>capital-loss</th>\n",
       "      <th>hours-per-week</th>\n",
       "    </tr>\n",
       "  </thead>\n",
       "  <tbody>\n",
       "    <tr>\n",
       "      <th>1</th>\n",
       "      <td>25</td>\n",
       "      <td>Private</td>\n",
       "      <td>11th</td>\n",
       "      <td>7.0</td>\n",
       "      <td>Never-married</td>\n",
       "      <td>Machine-op-inspct</td>\n",
       "      <td>Own-child</td>\n",
       "      <td>0.0</td>\n",
       "      <td>0.0</td>\n",
       "      <td>40.0</td>\n",
       "    </tr>\n",
       "    <tr>\n",
       "      <th>2</th>\n",
       "      <td>38</td>\n",
       "      <td>Private</td>\n",
       "      <td>HS-grad</td>\n",
       "      <td>9.0</td>\n",
       "      <td>Married-civ-spouse</td>\n",
       "      <td>Farming-fishing</td>\n",
       "      <td>Husband</td>\n",
       "      <td>0.0</td>\n",
       "      <td>0.0</td>\n",
       "      <td>50.0</td>\n",
       "    </tr>\n",
       "    <tr>\n",
       "      <th>3</th>\n",
       "      <td>28</td>\n",
       "      <td>Local-gov</td>\n",
       "      <td>Assoc-acdm</td>\n",
       "      <td>12.0</td>\n",
       "      <td>Married-civ-spouse</td>\n",
       "      <td>Protective-serv</td>\n",
       "      <td>Husband</td>\n",
       "      <td>0.0</td>\n",
       "      <td>0.0</td>\n",
       "      <td>40.0</td>\n",
       "    </tr>\n",
       "  </tbody>\n",
       "</table>\n",
       "</div>"
      ],
      "text/plain": [
       "  age   workclass    education  education-num       marital-status  \\\n",
       "1  25     Private         11th            7.0        Never-married   \n",
       "2  38     Private      HS-grad            9.0   Married-civ-spouse   \n",
       "3  28   Local-gov   Assoc-acdm           12.0   Married-civ-spouse   \n",
       "\n",
       "           occupation relationship  capital-gain  capital-loss  hours-per-week  \n",
       "1   Machine-op-inspct    Own-child           0.0           0.0            40.0  \n",
       "2     Farming-fishing      Husband           0.0           0.0            50.0  \n",
       "3     Protective-serv      Husband           0.0           0.0            40.0  "
      ]
     },
     "execution_count": 33,
     "metadata": {},
     "output_type": "execute_result"
    }
   ],
   "source": [
    "X_test.head(3)"
   ]
  },
  {
   "cell_type": "markdown",
   "metadata": {},
   "source": [
    "### Getting predictions from REST API"
   ]
  },
  {
   "cell_type": "code",
   "execution_count": 48,
   "metadata": {},
   "outputs": [
    {
     "data": {
      "text/plain": [
       "'0.0063376245'"
      ]
     },
     "execution_count": 48,
     "metadata": {},
     "output_type": "execute_result"
    }
   ],
   "source": [
    "\n",
    "get_prediction(field_array=(\"25\", \"Private\", \"11th\", \"7.0\", \"Never-married\", \"Machine-op-inspct\", \"Own-child\", \"0.0\", \"0.0\", \"40.0\"), myurl=API_URL)\n",
    "\n",
    "# get_prediction(field_array=(\"25\", \"Private\", \"11th\", \"7\", \"Never-married\", \"Machine-op-inspct\", \"Own-child\", \"0\", \"0\", \"40\"), myurl=API_URL)"
   ]
  },
  {
   "cell_type": "code",
   "execution_count": null,
   "metadata": {
    "scrolled": false
   },
   "outputs": [],
   "source": [
    "# %%time\n",
    "# predictions = X_test[['age', 'workclass', 'education', 'education-num', 'marital-status', 'occupation', 'relationship',\n",
    "#             'capital-gain', 'capital-loss', 'hours-per-week']].iloc[:500].apply(lambda x: get_prediction(x, API_URL), 1)"
   ]
  },
  {
   "cell_type": "markdown",
   "metadata": {},
   "source": [
    "check performance (roc auc)"
   ]
  },
  {
   "cell_type": "code",
   "execution_count": null,
   "metadata": {},
   "outputs": [],
   "source": [
    "# roc_auc_score(y_score=predictions.values, y_true=y_test.iloc[:500])"
   ]
  },
  {
   "cell_type": "markdown",
   "metadata": {},
   "source": [
    "Давайте подумаем, где наше api может сломаться"
   ]
  },
  {
   "cell_type": "code",
   "execution_count": null,
   "metadata": {},
   "outputs": [],
   "source": [
    "# get_prediction(field_array=(\"\", None, None), myurl=API_URL)"
   ]
  },
  {
   "cell_type": "code",
   "execution_count": null,
   "metadata": {},
   "outputs": [],
   "source": [
    "# get_prediction(field_array=(\"\", \"\", \"\"), myurl=API_URL)"
   ]
  },
  {
   "cell_type": "code",
   "execution_count": null,
   "metadata": {},
   "outputs": [],
   "source": [
    "\n"
   ]
  },
  {
   "cell_type": "code",
   "execution_count": null,
   "metadata": {},
   "outputs": [],
   "source": []
  }
 ],
 "metadata": {
  "kernelspec": {
   "display_name": "Python 3",
   "language": "python",
   "name": "python3"
  },
  "language_info": {
   "codemirror_mode": {
    "name": "ipython",
    "version": 3
   },
   "file_extension": ".py",
   "mimetype": "text/x-python",
   "name": "python",
   "nbconvert_exporter": "python",
   "pygments_lexer": "ipython3",
   "version": "3.8.3"
  }
 },
 "nbformat": 4,
 "nbformat_minor": 2
}
